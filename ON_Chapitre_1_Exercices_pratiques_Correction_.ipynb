{
  "nbformat": 4,
  "nbformat_minor": 0,
  "metadata": {
    "kernelspec": {
      "display_name": "Python 3",
      "language": "python",
      "name": "python3"
    },
    "language_info": {
      "codemirror_mode": {
        "name": "ipython",
        "version": 3
      },
      "file_extension": ".py",
      "mimetype": "text/x-python",
      "name": "python",
      "nbconvert_exporter": "python",
      "pygments_lexer": "ipython3",
      "version": "3.7.1"
    },
    "toc": {
      "base_numbering": 1,
      "nav_menu": {},
      "number_sections": true,
      "sideBar": true,
      "skip_h1_title": true,
      "title_cell": "Table of Contents",
      "title_sidebar": "Contents",
      "toc_cell": true,
      "toc_position": {
        "height": "calc(100% - 180px)",
        "left": "10px",
        "top": "150px",
        "width": "165px"
      },
      "toc_section_display": true,
      "toc_window_display": true
    },
    "colab": {
      "name": "ON -  Chapitre 1 Exercices pratiques Correction .ipynb",
      "provenance": [],
      "collapsed_sections": [],
      "include_colab_link": true
    }
  },
  "cells": [
    {
      "cell_type": "markdown",
      "metadata": {
        "id": "view-in-github",
        "colab_type": "text"
      },
      "source": [
        "<a href=\"https://colab.research.google.com/github/hotmanis/OpenclassroomProject/blob/master/ON_Chapitre_1_Exercices_pratiques_Correction_.ipynb\" target=\"_parent\"><img src=\"https://colab.research.google.com/assets/colab-badge.svg\" alt=\"Open In Colab\"/></a>"
      ]
    },
    {
      "cell_type": "markdown",
      "metadata": {
        "id": "MGynlzvXv3-c",
        "colab_type": "text"
      },
      "source": [
        "# Bases en Python\n",
        "\n",
        "Pour vous rappeler des syntaxes utiles en python, je vous conseille [le cours d'initiation à la programmation avec Python de G. Faccianoni](http://faccanoni.univ-tln.fr/user/enseignements/20192020/PIM11_L1_NEW.pdf) \n",
        "\n",
        "\n",
        "\n",
        "\n",
        "\n",
        "1. écrire un commentaire en python : Vous ecrirez votre nom et prénom en debut de fichier\n",
        "2. afficher un texte : \"Bienvenue dans le cours d'optimisation numérique\"\n",
        "3. définir une variable : x qui vaut 36.3\n",
        "4. définir une liste : {3,5,7,8, 2, 1}\n",
        "5. accéder à son 3e élément et l'afficher\n",
        "6. définir une matrice et afficher son inverse\n",
        "7. utiliser les fonctions plot pour afficher la courbe (x-2)^2 sur l'intervalle [0,4]\n",
        "8. définir une fonction  qui renvoie (x-2)^2\n",
        "9. utiliser cette fonction pour \n",
        "10. calculer la valeur de (6.3-2)^2\n",
        "11. définir cette fonction dans un fichier séparé et utiliser la\n",
        "12. créer un fichier .dat qui contient une liste de valeurs. Lire ce fichier, stocker les valeurs dans une matrice et utiliser la fonction plot pour les afficher.\n",
        "\n",
        "\n",
        "\n"
      ]
    },
    {
      "cell_type": "code",
      "metadata": {
        "id": "IbF1LD-Jdj7V",
        "colab_type": "code",
        "outputId": "fdf6b1ba-e8ee-4a9b-d5e7-80c126b6a899",
        "colab": {
          "base_uri": "https://localhost:8080/",
          "height": 447
        }
      },
      "source": [
        "#import numpy as np\n",
        "#import matplotlib.pyplot as plt\n",
        "\n",
        "from matplotlib.pylab import *\n",
        "\n",
        "\n",
        "#1. écrire un commentaire en python : \n",
        "# Vous ecrirez votre nom et prénom en debut de fichier\n",
        "# Auteur : Claire DUNE\n",
        "# Date : 9 avril 2020\n",
        "# Brief : quelqes syntaxes de base en python \n",
        "\n",
        "\n",
        "#2. afficher un texte : \"Bienvenue dans le cours d'optimisation numérique\"\n",
        "print(\"Bienvenue dans le cours d'optimisation numérique\")\n",
        "\n",
        "\n",
        "#3. définir une variable : x qui vaut 36.3\n",
        "# Attention Python distingue les majuscules des minuscules. \n",
        "# Donc mavariable, Mavariable et MAVARIABLE sont des variables différentes\n",
        "#.\n",
        "#De plus, il faut absolument éviter d’utiliser un mot «réservé» par Python comme nom de variable, par exemple :\n",
        "#and as assert break class continue def del elif else except False finally for from\n",
        "#global if import in is lambda not or pass print raise range return True try while with y\n",
        "\n",
        "x = 36.3\n",
        "print(x) \n",
        "\n",
        "#4. définir une liste : {3,5,7,8, 2, 1}\n",
        "maliste = [3,5,7,8, 2, 1]\n",
        "print(maliste)\n",
        "\n",
        "\n",
        "#5. accéder à son 3e élément et l'afficher\n",
        "trois = maliste[2] # attention, le premier element a pour indice 0\n",
        "print(trois)\n",
        "\n",
        "#6. définir une matrice et afficher son inverse\n",
        "A = [[1, 1, 1], [3, 4, 3], [3, 3, 4]]\n",
        "print(A)\n",
        "\n",
        "\n",
        "Ai = inv(A)\n",
        "print (Ai)\n",
        "\n",
        "# verification\n",
        "print (Ai.dot(A))\n",
        "\n",
        "#7. utiliser les fonctions plot pour afficher la courbe (x-2)^2 sur l'intervalle [0,4]\n",
        "# définir une fonction  qui renvoie (x-2)^2\n",
        "def courbe(x):\n",
        "  return (x-2)**2\n",
        "\n",
        "x=linspace(-1,10,100)\n",
        "plot(x,courbe(x))\n",
        "\n",
        "# utiliser cette fonction pour calculer la valeur de (6.3-2)^2\n",
        "y = courbe(6.3)\n",
        "print(y)"
      ],
      "execution_count": 0,
      "outputs": [
        {
          "output_type": "stream",
          "text": [
            "Bienvenue dans le cours d'optimisation numérique\n",
            "36.3\n",
            "[3, 5, 7, 8, 2, 1]\n",
            "7\n",
            "[[1, 1, 1], [3, 4, 3], [3, 3, 4]]\n",
            "[[ 7.00000000e+00 -1.00000000e+00 -1.00000000e+00]\n",
            " [-3.00000000e+00  1.00000000e+00 -0.00000000e+00]\n",
            " [-3.00000000e+00  1.66533454e-16  1.00000000e+00]]\n",
            "[[ 1.00000000e+00  0.00000000e+00  0.00000000e+00]\n",
            " [-2.22044605e-16  1.00000000e+00 -2.22044605e-16]\n",
            " [-4.44089210e-16  0.00000000e+00  1.00000000e+00]]\n",
            "18.49\n"
          ],
          "name": "stdout"
        },
        {
          "output_type": "display_data",
          "data": {
            "image/png": "[encoded data removed]",
            "text/plain": [
              "<Figure size 432x288 with 1 Axes>"
            ]
          },
          "metadata": {
            "tags": [],
            "needs_background": "light"
          }
        }
      ]
    },
    {
      "cell_type": "markdown",
      "metadata": {
        "id": "D-RXKHmctZtS",
        "colab_type": "text"
      },
      "source": [
        "# Exercices Fonctions unidimensionnelle\n",
        "\n",
        "\n",
        "## Unimodalité et différentiabilité\n",
        "\n",
        "Tracer ces fonctions sous Python et étudier les pour déterminer si elles sont continue, différenciables,  unimodales.\n",
        "\n",
        "a) $f(x)=(x-1)^2$ \n",
        "\n",
        "b) $f(x)=\\frac{1}{3}(x-1)^3$ \n",
        "\n",
        "c) $g(x)=\\left\\{ \\begin{eqnarray}\n",
        "2(x-2.5)^2 &\\mbox{  si } x&<0 \\mbox{  ou } x >5 \\\\\n",
        "10-x^2 &\\mbox{ si } x &<3 \\\\\n",
        "1+(x-3)^2 &\\mbox{ sinon }& \n",
        "\\end{eqnarray} \\right. $\n",
        "\n",
        "d) $f(x)=x^2+2x*(1-log(2x))-5/4$"
      ]
    },
    {
      "cell_type": "code",
      "metadata": {
        "id": "8SlL8TYDlojz",
        "colab_type": "code",
        "outputId": "13a42708-aa38-4acc-b2df-47c65bfefb56",
        "colab": {
          "base_uri": "https://localhost:8080/",
          "height": 296
        }
      },
      "source": [
        "from matplotlib.pylab import *\n",
        "\n",
        "x = linspace(-6,6,100)\n",
        "\n",
        "def fa(x): \n",
        "    return (x-1)**2\n",
        "\n",
        "def fb(x): \n",
        "    return (x-1)**3/3\n",
        "\n",
        "def fc(x):\n",
        "    y = 0\n",
        "    if x <0.0 or x>5.0: \n",
        "        y = 2*(x-2.5)**2\n",
        "    elif x <3:\n",
        "        y = 10-x**2\n",
        "    else:\n",
        "        y = 1+(x-3)**2   \n",
        "    return y\n",
        "\n",
        "def fd(x):\n",
        "  return x**2 + 2*x*(log(2*x))-5/4\n",
        "\n",
        "\n",
        "\n",
        "for val in x :\n",
        "  plt.plot(val,fc(val),'g.')  \n",
        "\n",
        "plt.plot(x,fa(x),'r')  \n",
        "plt.plot(x,fb(x),'b')  \n",
        "plot(x,fd(x),'c') \n",
        "ylabel('$f(x)$')\n",
        "xlabel(\"x\")\n",
        "show()"
      ],
      "execution_count": 0,
      "outputs": [
        {
          "output_type": "stream",
          "text": [
            "/usr/local/lib/python3.6/dist-packages/ipykernel_launcher.py:22: RuntimeWarning: invalid value encountered in log\n"
          ],
          "name": "stderr"
        },
        {
          "output_type": "display_data",
          "data": {
            "image/png": "[encoded data removed]",
            "text/plain": [
              "<Figure size 432x288 with 1 Axes>"
            ]
          },
          "metadata": {
            "tags": []
          }
        }
      ]
    },
    {
      "cell_type": "markdown",
      "metadata": {
        "id": "-eNOnW6EtZtZ",
        "colab_type": "text"
      },
      "source": [
        "## Recherche unidimensionnelle\n",
        "\n",
        "Tester les algorithmes de la dichotomie et de la section dorée sur les fonctions définie dans l'exercice 2.\n",
        "\n",
        "a) pour $a = 0$ et $b=3$\n",
        "\n",
        "b) pour $a = -3$ et $b=3$\n",
        "\n",
        "c) pour $a = -2$ et $b=3$"
      ]
    },
    {
      "cell_type": "code",
      "metadata": {
        "id": "yRPyFKkwmRFh",
        "colab_type": "code",
        "colab": {}
      },
      "source": [
        "def dichotomie (F , a, b,  tol =10**(-6) , Niter =1000) :\n",
        "    # Initialisation\n",
        "    x1 = a\n",
        "    x5 = b\n",
        "    x3 = (x1+x5)/2\n",
        "    x2 = (x1+x3)/2\n",
        "    x4 = (x3+x5)/2\n",
        "    y1, y3, y5 = 0,0,0\n",
        "    xmin = []\n",
        "    xmax = []\n",
        "    xn = []\n",
        "    # Boucle principale\n",
        "    for n in range ( Niter ) : # pas de while dans ce cours !\n",
        "        \n",
        "        x2 = (x1+x3)/2\n",
        "        x4 = (x3+x5)/2\n",
        "        f1 = F(x1)\n",
        "        f2 = F(x2)\n",
        "        f3 = F(x3)\n",
        "        f4 = F(x4)\n",
        "        f5 = F(x5)\n",
        "        \n",
        "        if (x5-x1) < tol : # Si le critère de convergence est atteint ,\n",
        "            return xn, xmin, xmax # on renvoie xn et la liste [x_0 , ... x_{n -1}].\n",
        "        else :\n",
        "            if f1 < f2 < f3 < f4  < f5 :\n",
        "                    y1=x1\n",
        "                    y5=x2\n",
        "                    y3=(y1+y5)/2\n",
        "            elif f1 > f2 < f3  < f4  < f5 :\n",
        "                    y1=x1\n",
        "                    y5=x3\n",
        "                    y3=x2\n",
        "            elif f1 > f2 > f3  < f4  < f5 :    \n",
        "                    y1=x2\n",
        "                    y5=x4\n",
        "                    y3=x3\n",
        "            elif f1 > f2 > f3  > f4  < f5 :    \n",
        "                    y1=x3\n",
        "                    y5=x5\n",
        "                    y3=x4 \n",
        "            else : \n",
        "                    y1=x4\n",
        "                    y5=x5\n",
        "                    y3=(y1+y5)/2\n",
        "            x1=y1\n",
        "            x3=y3\n",
        "            x5=y5\n",
        "            xmin.append(x1)\n",
        "            xmax.append(x5)\n",
        "            xn.append(x3)\n",
        "            \n",
        "    print (\" Erreur , l’algorithme n’a pas convergé après \", Niter , \" itérations \")\n",
        "    return xn, xmin, xmax"
      ],
      "execution_count": 0,
      "outputs": []
    },
    {
      "cell_type": "code",
      "metadata": {
        "id": "ANlFdQBmmuga",
        "colab_type": "code",
        "colab": {}
      },
      "source": [
        "def section_doree (F , a, b,  tol =10**(-6) , Niter =1000) :\n",
        "    # Initialisation\n",
        "    \n",
        "    rho = 1 - 1/2*(np.sqrt(5)-1) \n",
        "    x1 = a\n",
        "    x4 = b\n",
        "    x2 = x1+rho*(x4-x1)\n",
        "    x3 = x4-rho*(x4-x1)\n",
        "    xmin = []\n",
        "    xmax = []\n",
        "    xn = []\n",
        "    # Boucle principale\n",
        "    for n in range ( Niter ) : # pas de while dans ce cours !\n",
        "       \n",
        "        x2 = x1+rho*(x4-x1)\n",
        "        x3 = x4-rho*(x4-x1)        \n",
        "        f1 = F(x1)\n",
        "        f2 = F(x2)\n",
        "        f3 = F(x3)\n",
        "        f4 = F(x4)\n",
        "        \n",
        "        if (x4-x1) < tol : # Si le critère de convergence est atteint ,\n",
        "            return xn, xmin, xmax # on renvoie xn et la liste [x_0 , ... x_{n -1}].\n",
        "        else :\n",
        "            if f1 < f2 < f3 < f4 :\n",
        "                x4=x2\n",
        "                    \n",
        "            elif f1 > f2 < f3  < f4 :\n",
        "                x4=x3\n",
        "                \n",
        "            elif f1 > f2 > f3  < f4 :    \n",
        "                x1=x2\n",
        "            \n",
        "            else : \n",
        "                x1=x3\n",
        "                    \n",
        "            xmin.append(x1)\n",
        "            xmax.append(x4)\n",
        "            xn.append((x1+x4)/2)\n",
        "            \n",
        "    print (\" Erreur , l’algorithme n’a pas convergé après \", Niter , \" itérations \")\n",
        "    return xn, xmin, xmax\n",
        "\n",
        "def fibonnacci (F , a, b,  tol =10**(-6) , Niter =1000) :\n",
        "    # Initialisation\n",
        "    \n",
        "    Rpp = 1\n",
        "    Rp = 1\n",
        "    rho = 0.1\n",
        "    x1 = a\n",
        "    x4 = b\n",
        "    x2 = x1+rho*(x4-x1)\n",
        "    x3 = x4-rho*(x4-x1)\n",
        "    xmin = []\n",
        "    xmax = []\n",
        "    xn = []\n",
        "    # Boucle principale\n",
        "    for n in range ( Niter ) : # pas de while dans ce cours !\n",
        "        \n",
        "        # mise a jour de R\n",
        "        R   = Rpp + Rp   \n",
        "        Rpp = Rp\n",
        "        Rp  = R\n",
        "        rho = 1 - Rpp/Rp\n",
        "\n",
        "        \n",
        "        \n",
        "        x2 = x1+rho*(x4-x1)\n",
        "        x3 = x4-rho*(x4-x1)        \n",
        "        f1 = F(x1)\n",
        "        f2 = F(x2)\n",
        "        f3 = F(x3)\n",
        "        f4 = F(x4)\n",
        "        \n",
        "        if (x4-x1) < tol : # Si le critère de convergence est atteint ,\n",
        "            return xn, xmin, xmax # on renvoie xn et la liste [x_0 , ... x_{n -1}].\n",
        "        else :\n",
        "            if f1 < f2 < f3 < f4 :\n",
        "                x4=x2\n",
        "                    \n",
        "            elif f1 > f2 < f3  < f4 :\n",
        "                x4=x3\n",
        "                \n",
        "            elif f1 > f2 > f3  < f4 :    \n",
        "                x1=x2\n",
        "            \n",
        "            else : \n",
        "                x1=x3\n",
        "                    \n",
        "            xmin.append(x1)\n",
        "            xmax.append(x4)\n",
        "            xn.append((x1+x4)/2)\n",
        "            \n",
        "    print (\" Erreur , l’algorithme n’a pas convergé après \", Niter , \" itérations \")\n",
        "    return xn, xmin, xmax"
      ],
      "execution_count": 0,
      "outputs": []
    },
    {
      "cell_type": "markdown",
      "metadata": {
        "id": "VEwtjsYjmYtq",
        "colab_type": "text"
      },
      "source": [
        "Exemple d'utilisation\n"
      ]
    },
    {
      "cell_type": "code",
      "metadata": {
        "id": "Dbro9-RcmXs6",
        "colab_type": "code",
        "outputId": "835d68ee-1a94-46ac-99c6-43e4d8d7ef99",
        "colab": {
          "base_uri": "https://localhost:8080/",
          "height": 264
        }
      },
      "source": [
        "xn,xmin, xmax = dichotomie(fa, 0,3)\n",
        "x = np.linspace(0,3,100)\n",
        "\n",
        "plt.plot(x,fa(x),'r')\n",
        "for val in xn :\n",
        "  plt.plot(val,fa(val),'g.')  \n",
        "plt.show()"
      ],
      "execution_count": 0,
      "outputs": [
        {
          "output_type": "display_data",
          "data": {
            "image/png": "[encoded data removed]",
            "text/plain": [
              "<Figure size 432x288 with 1 Axes>"
            ]
          },
          "metadata": {
            "tags": []
          }
        }
      ]
    },
    {
      "cell_type": "markdown",
      "metadata": {
        "id": "3fVN0GVYtZtf",
        "colab_type": "text"
      },
      "source": [
        "\n",
        "\n",
        "## Résolution d'équations de dimension 1\n",
        "\n",
        "### Exercice 1\n",
        "1) Tracer la fonction suivante $$p=\\prod_{i=1}^4(x-1/(i+1))$$\n",
        "2) En utilisant l'algorithme de Newton Raphson, cherchez les zeros de cette fonction \n",
        "\n",
        "\n",
        "\n"
      ]
    },
    {
      "cell_type": "code",
      "metadata": {
        "id": "4014PBFtm7bD",
        "colab_type": "code",
        "colab": {}
      },
      "source": [
        "def prod(x):\n",
        "    res = 1\n",
        "    for i in range(1,5):\n",
        "        res = res * (x-1/(i+1))\n",
        "    return res\n",
        "\n",
        "def derivee(F,x,h = 10**(-6)):\n",
        "    return (F(x+h)-F(x))/h\n",
        "\n",
        "def der_prod(x):\n",
        "    return derivee(prod,x)"
      ],
      "execution_count": 0,
      "outputs": []
    },
    {
      "cell_type": "code",
      "metadata": {
        "id": "f5FnJAW3nA5E",
        "colab_type": "code",
        "outputId": "04e01949-2922-423c-9ef4-eb8a7f90b248",
        "colab": {
          "base_uri": "https://localhost:8080/",
          "height": 317
        }
      },
      "source": [
        "# Test sur la fonction prod\n",
        "x = np.linspace(0,0.6,100)\n",
        "xn,xmin, xmax = dichotomie(prod, 0,0.6)\n",
        "xn_sd,xmin_sd, xmax_sd =  section_doree (prod , 0, 0.6)\n",
        "xn_f,xmin_f, xmax_f = fibonnacci (prod,0,0.6) \n",
        "#-------- FIGURE 2 -----------------#\n",
        "plot(x,prod(x),'y')\n",
        "\n",
        "for val in x :\n",
        "    plot(val,derivee(prod,val),'b*')\n",
        "\n",
        "#for val in xn :\n",
        "#  plt.plot(val,prod(val),'g.')  \n",
        "#for val in xn_sd :\n",
        "#  plt.plot(val,prod(val),'b.')  \n",
        "#for val in xn_f :\n",
        "#  plt.plot(val,prod(val),'r.')  \n",
        "\n",
        "show()\n",
        "print(\"dicho %d\" %len(xn))\n",
        "print(\"sd %d\" %len(xn_sd))\n",
        "print(\"fibonnaci %d\" %len(xn_f))"
      ],
      "execution_count": 0,
      "outputs": [
        {
          "output_type": "display_data",
          "data": {
            "image/png": "[encoded data removed]",
            "text/plain": [
              "<Figure size 432x288 with 1 Axes>"
            ]
          },
          "metadata": {
            "tags": []
          }
        },
        {
          "output_type": "stream",
          "text": [
            "dicho 20\n",
            "sd 28\n",
            "fibonnaci 28\n"
          ],
          "name": "stdout"
        }
      ]
    },
    {
      "cell_type": "code",
      "metadata": {
        "id": "Lgdc81oRnQLm",
        "colab_type": "code",
        "colab": {}
      },
      "source": [
        "def newton_raphson (F , D, x0,  tol =10**(-6) , Niter =1000) :\n",
        "    # Initialisation\n",
        "    xp = x0\n",
        "    xc = x0\n",
        "    xn = []\n",
        "    xn.append(xc)\n",
        "    # Boucle principale\n",
        "    for n in range ( Niter ) : # pas de while dans ce cours !\n",
        "            \n",
        "        xc = xp - (F(xp)/D(xp))            \n",
        "        xn.append(xc)\n",
        "        \n",
        "        if (np.abs(xp-xc)) < tol : # Si le critère de convergence est atteint ,\n",
        "            return xn# on renvoie xn et la liste [x_0 , ... x\n",
        "        else :    \n",
        "            xp = xc\n",
        "             \n",
        "            \n",
        "    print (\" Erreur , l’algorithme n’a pas convergé après \", Niter , \" itérations \")\n",
        "    return xn"
      ],
      "execution_count": 0,
      "outputs": []
    },
    {
      "cell_type": "code",
      "metadata": {
        "id": "GMrCeIaHnUhM",
        "colab_type": "code",
        "outputId": "232cf16d-0d6b-478b-f139-d6714606482e",
        "colab": {
          "base_uri": "https://localhost:8080/",
          "height": 264
        }
      },
      "source": [
        "# Test sur la fonction prod\n",
        "x = np.linspace(0,0.6,100)\n",
        "xn_nr= newton_raphson (prod , der_prod, 0.31) \n",
        " \n",
        "#-------- FIGURE 2 -----------------#\n",
        "plt.plot(x,prod(x),'y')\n",
        "\n",
        "#for val in x :\n",
        " #   plt.plot(val,derivee(prod,val),'b*')\n",
        "\n",
        "for val in xn_nr :\n",
        "  plt.plot(val, prod(val),'g.')  "
      ],
      "execution_count": 0,
      "outputs": [
        {
          "output_type": "display_data",
          "data": {
            "image/png": "[encoded data removed]",
            "text/plain": [
              "<Figure size 432x288 with 1 Axes>"
            ]
          },
          "metadata": {
            "tags": []
          }
        }
      ]
    },
    {
      "cell_type": "markdown",
      "metadata": {
        "id": "bplHivor4EJu",
        "colab_type": "text"
      },
      "source": [
        "### Exercice 2\n",
        "\n",
        "On veut calculer rapidement $x= \\sqrt{5}$ (avec a réél strictement positif) avec une très bonne précision. Pour se faire on définit $f(x) = x^2-a$ et on recherche la racine positive.\n",
        "\n",
        "1) Mettre en oeuvre la méthode de Newton Raphson sur cet exemple\n",
        "\n",
        "2) Pour $a = 2$, en partant de $x_0$ = 1, calculer numériquement $x_1$, $x_2$, $x_3$. \n",
        "\n",
        "3) Que dire de la qualité obtenue ?"
      ]
    },
    {
      "cell_type": "code",
      "metadata": {
        "id": "ZaliyZ73oC2_",
        "colab_type": "code",
        "colab": {}
      },
      "source": [
        "def fsqrt_5(x):\n",
        "\treturn x**2-5\n",
        "\t\n",
        "def fsqrt_4(x):\n",
        "\treturn x**2-4\n",
        "\n",
        "def der_sqrt(x):\n",
        "\treturn 2*x\n",
        "\t\n",
        "def f_ex2(x1,x2) :\n",
        "    \"\"\"Fonction de l'exemple2 \"\"\"\n",
        "    return 5*x1**2+x2**2/2 - 3*(x1+x2)"
      ],
      "execution_count": 0,
      "outputs": []
    },
    {
      "cell_type": "code",
      "metadata": {
        "id": "wNu9fLNPoG1d",
        "colab_type": "code",
        "outputId": "664571cf-dea4-48e0-b9d7-3a4b1f148408",
        "colab": {
          "base_uri": "https://localhost:8080/",
          "height": 353
        }
      },
      "source": [
        "import numpy as np\n",
        "import matplotlib.pyplot as plt\n",
        "from time import sleep\n",
        "from IPython.display import clear_output\n",
        "\n",
        "# Test sur la fonction prod\n",
        "x = np.linspace(0,5,100)\n",
        "xn_nr= newton_raphson (fsqrt_4 , der_sqrt, 1,10**(-6)) \n",
        "print(xn_nr) \n",
        "print(\"iterations %f\" %len(xn_nr)) \n",
        "print(\"residu %f\" %fsqrt_5(xn_nr[len(xn_nr)-1])) \n",
        "print(\"arg %f\" %xn_nr[len(xn_nr)-1]) \n",
        "print(\"precision %.15f\" % np.abs(xn_nr[len(xn_nr)-1]-2)) \n",
        "\n",
        "#-------- FIGURE 2 -----------------#\n",
        "plt.plot(x,fsqrt_4(x),'y')\n",
        "\n",
        "for val in xn_nr :\n",
        "  plt.plot(val, fsqrt_4(val),'g.')\n",
        "\n",
        "plt.plot(x,fsqrt_4(x),'y')  \n",
        "plt.show()\n"
      ],
      "execution_count": 0,
      "outputs": [
        {
          "output_type": "stream",
          "text": [
            "[1, 2.5, 2.05, 2.000609756097561, 2.0000000929222947, 2.000000000000002]\n",
            "iterations 6.000000\n",
            "residu -1.000000\n",
            "arg 2.000000\n",
            "precision 0.000000000000002\n"
          ],
          "name": "stdout"
        },
        {
          "output_type": "display_data",
          "data": {
            "image/png": "[encoded data removed]",
            "text/plain": [
              "<Figure size 432x288 with 1 Axes>"
            ]
          },
          "metadata": {
            "tags": []
          }
        }
      ]
    },
    {
      "cell_type": "markdown",
      "metadata": {
        "id": "ZTg597Yg4ETo",
        "colab_type": "text"
      },
      "source": [
        "### Exercice 3\n",
        "\n",
        "Utiliser la méthode de la sécante pour trouver la valeur de $\\sqrt{2}$"
      ]
    }
  ]
}